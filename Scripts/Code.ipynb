{
 "cells": [
  {
   "cell_type": "markdown",
   "id": "ea28bb29-b7ce-479a-bd3b-1432f787a40b",
   "metadata": {},
   "source": [
    "# Predicting Poverty \n",
    "Este trabajo tiene el objetivo de predecir la pobreza a nivel de _hogares_ utilizando data a nivel hogares e individuos. Se combinan ambos niveles de desagregación para obtener una mejor predicción.\n",
    "\n",
    "El estudio tiene base en una muestra de Bogotá en el 2018 llamada _Medición de Pobreza Monetaria y Desigualdad Report_ realizada por la Gran Encuesta Integrada de Hogares (GEIH).”"
   ]
  },
  {
   "cell_type": "markdown",
   "id": "750e8508-f63c-404e-81a9-6eb92c4163c5",
   "metadata": {},
   "source": [
    "## Importación y _merge_ de bases: Train y Test\n",
    "A continuación, se realiza el _merge_ entre individuos y hogares para la muestra _train_ y la muestra _test_"
   ]
  },
  {
   "cell_type": "code",
   "execution_count": 4,
   "id": "3ea33317-46f3-4bc4-89aa-4f765a84bbea",
   "metadata": {},
   "outputs": [
    {
     "name": "stdout",
     "output_type": "stream",
     "text": [
      "test_merged: 219644 observaciones, 78 columnas\n",
      "train_merged: 543109 observaciones, 157 columnas\n"
     ]
    }
   ],
   "source": [
    "import pandas as pd\n",
    "\n",
    "# Define la ruta de la carpeta donde están los archivos\n",
    "ruta_carpeta = r\"C:\\Users\\dalig\\OneDrive\\Documents\\Maestría\\Machine Learning\\PS2\\Stores\"\n",
    "\n",
    "# Cargar los archivos CSV en dataframes\n",
    "test_hogares = pd.read_csv(f\"{ruta_carpeta}\\\\test_hogares.csv\")\n",
    "test_personas = pd.read_csv(f\"{ruta_carpeta}\\\\test_personas.csv\")\n",
    "train_hogares = pd.read_csv(f\"{ruta_carpeta}\\\\train_hogares.csv\")\n",
    "train_personas = pd.read_csv(f\"{ruta_carpeta}\\\\train_personas.csv\")\n",
    "\n",
    "# Asegúrate de que la columna 'id' esté en minúsculas y en formato string\n",
    "for df in [test_hogares, test_personas, train_hogares, train_personas]:\n",
    "    if 'id' in df.columns:\n",
    "        df['id'] = df['id'].str.lower().astype(str)\n",
    "\n",
    "# Realizar el merge one-to-many entre test_hogares y test_personas\n",
    "test_merged = pd.merge(test_hogares, test_personas, on='id', how='left', suffixes=('_hogar', '_persona'))\n",
    "\n",
    "# Realizar el merge one-to-many entre train_hogares y train_personas\n",
    "train_merged = pd.merge(train_hogares, train_personas, on='id', how='left', suffixes=('_hogar', '_persona'))\n",
    "\n",
    "\n",
    "# Imprimir la cantidad de observaciones y columnas en test_merged\n",
    "print(f\"test_merged: {test_merged.shape[0]} observaciones, {test_merged.shape[1]} columnas\")\n",
    "\n",
    "# Imprimir la cantidad de observaciones y columnas en train_merged\n",
    "print(f\"train_merged: {train_merged.shape[0]} observaciones, {train_merged.shape[1]} columnas\")\n"
   ]
  },
  {
   "cell_type": "markdown",
   "id": "484a8df8-de2f-4f70-b192-6c2cecfc7d74",
   "metadata": {},
   "source": [
    "## Limpieza de las bases de datos\n",
    "A continuación, se formula la muestra de interés. Se eliminan _outliers_ en las edades."
   ]
  },
  {
   "cell_type": "code",
   "execution_count": 6,
   "id": "4f745edf-8c6e-4ae2-bd5f-48c74b4346da",
   "metadata": {},
   "outputs": [
    {
     "name": "stdout",
     "output_type": "stream",
     "text": [
      "Se eliminaron 15 filas en test_merged dataframe\n",
      "Se eliminaron 56 filas en train_merged dataframe\n"
     ]
    }
   ],
   "source": [
    "# Definir los DataFrames y la columna\n",
    "dataframes = [test_merged, train_merged]\n",
    "names = ['test_merged', 'train_merged']\n",
    "\n",
    "# Bucle para filtrar ambos DataFrames\n",
    "for df, name in zip(dataframes, names):\n",
    "    # Filtrar el DataFrame para que P6040 sea menor o igual a 100\n",
    "    antes = df.shape[0]  # Número de filas antes de filtrar\n",
    "    df = df[df['P6040'] <= 100]\n",
    "    despues = df.shape[0]  # Número de filas después de filtrar\n",
    "    \n",
    "    # Mostrar el resultado\n",
    "    print(f\"Se eliminaron {antes - despues} filas en {name} dataframe\")\n",
    "    \n",
    "    # Actualizar el DataFrame original\n",
    "    globals()[name] = df\n",
    "\n",
    "# Filtrar valores de 'Ingtot' fuera de un rango razonable\n",
    "train_merged = train_merged[train_merged['Ingtot'] > 0]  # Elimina los valores negativos o cero\n"
   ]
  },
  {
   "cell_type": "markdown",
   "id": "686e058d-08ea-4c6a-958a-45f9b9cf861e",
   "metadata": {},
   "source": [
    "## Variables de interés \n",
    "En esta sección se crean y renombran variables que serán pertinentes para un análisis posterior."
   ]
  },
  {
   "cell_type": "code",
   "execution_count": 8,
   "id": "1701e2a6-f685-4fa9-b760-1e26b046b4ed",
   "metadata": {},
   "outputs": [],
   "source": [
    "import numpy as np\n",
    "# Renombres\n",
    "dataframes = [test_merged, train_merged]\n",
    "names = ['test_merged', 'train_merged']\n",
    "renombrar = {'P6040': 'edad'}\n",
    "\n",
    "# Dummies\n",
    "for df, name in zip(dataframes, names):\n",
    "    df = df.rename(columns=renombrar)\n",
    "\n",
    "    df['sexo'] = np.where(df['P6020'] == 1, 1, np.where(df['P6210'].isna(), np.nan, 0)) #Vale 1 para hombres\n",
    "    df['preescolar'] = np.where(df['P6210'] == 2, 1, np.where(df['P6210'].isna(), np.nan, 0))\n",
    "    df['primaria'] = np.where(df['P6210'] == 3, 1, np.where(df['P6210'].isna(), np.nan, 0))\n",
    "    df['secundaria'] = np.where(df['P6210'] == 4, 1, np.where(df['P6210'].isna(), np.nan, 0))\n",
    "    df['media'] = np.where(df['P6210'] == 5, 1, np.where(df['P6210'].isna(), np.nan, 0))\n",
    "    df['superior'] = np.where(df['P6210'] == 6, 1, np.where(df['P6210'].isna(), np.nan, 0))\n",
    "    df['subsidio_alimentacion'] = np.where(df['P6585s1'] == 1, 1, np.where(df['P6585s1'].isna(), np.nan, 0))\n",
    "    df['subsidio_transporte'] = np.where(df['P6585s2'] == 1, 1, np.where(df['P6585s1'].isna(), np.nan, 0))\n",
    "    df['subsidio_familiar'] = np.where(df['P6585s3'] == 1, 1, np.where(df['P6585s1'].isna(), np.nan, 0))\n",
    "    df['subsidio_educativo'] = np.where(df['P6585s3'] == 1, 1, np.where(df['P6585s1'].isna(), np.nan, 0))\n",
    "\n",
    "    globals()[name] = df"
   ]
  },
  {
   "cell_type": "markdown",
   "id": "db5f858f-76b3-4d72-bb1d-a5a04787d924",
   "metadata": {},
   "source": [
    "## Descripción de las muestras\n",
    "A continuación, se detallan las **estadísticas descriptivas** de los datos de ambas muestras. Se muestra la composición de ambas muestras teniendo en cuenta "
   ]
  },
  {
   "cell_type": "code",
   "execution_count": 10,
   "id": "801c4c05-72eb-46cd-adc2-101bf346e0d9",
   "metadata": {},
   "outputs": [
    {
     "name": "stdout",
     "output_type": "stream",
     "text": [
      "Estadísticas descriptivas para test_merged:\n",
      "               count       mean        std  min   25%   50%   75%    max\n",
      "sexo        215148.0   0.482714   0.499702  0.0   0.0   0.0   1.0    1.0\n",
      "edad        219629.0  33.499165  21.678515  0.0  16.0  30.0  50.0  100.0\n",
      "preescolar  210460.0   0.028979   0.167749  0.0   0.0   0.0   0.0    1.0\n",
      "primaria    210460.0   0.261869   0.439653  0.0   0.0   0.0   1.0    1.0\n",
      "secundaria  210460.0   0.182077   0.385909  0.0   0.0   0.0   0.0    1.0\n",
      "media       210460.0   0.228514   0.419876  0.0   0.0   0.0   0.0    1.0\n",
      "superior    210460.0   0.241010   0.427697  0.0   0.0   0.0   0.0    1.0\n",
      "\n",
      "--------------------------------------------------\n",
      "\n",
      "Estadísticas descriptivas para train_merged:\n",
      "               count       mean        std   min   25%   50%   75%    max\n",
      "sexo        311097.0   0.504746   0.499978   0.0   0.0   1.0   1.0    1.0\n",
      "edad        311097.0  43.556897  17.402615  10.0  29.0  41.0  56.0  100.0\n",
      "preescolar  311097.0   0.000061   0.007815   0.0   0.0   0.0   0.0    1.0\n",
      "primaria    311097.0   0.220465   0.414561   0.0   0.0   0.0   0.0    1.0\n",
      "secundaria  311097.0   0.133097   0.339680   0.0   0.0   0.0   0.0    1.0\n",
      "media       311097.0   0.284403   0.451130   0.0   0.0   0.0   1.0    1.0\n",
      "superior    311097.0   0.320623   0.466717   0.0   0.0   0.0   1.0    1.0\n",
      "\n",
      "--------------------------------------------------\n",
      "\n"
     ]
    }
   ],
   "source": [
    "# Lista de variables de interés\n",
    "variables_interes = ['sexo', 'edad', 'preescolar', 'primaria', 'secundaria', 'media', 'superior']\n",
    "\n",
    "# DataFrames a iterar\n",
    "dataframes = [test_merged, train_merged]\n",
    "names = ['test_merged', 'train_merged']\n",
    "\n",
    "for df, name in zip(dataframes, names):\n",
    "    df_descriptive_stats = df[variables_interes].describe(include='all')\n",
    "    print(f\"Estadísticas descriptivas para {name}:\")\n",
    "    print(df_descriptive_stats.T) \n",
    "    print(\"\\n\" + \"-\"*50 + \"\\n\")\n"
   ]
  },
  {
   "cell_type": "markdown",
   "id": "75360519-68fd-4e95-bad1-02efb79d72e8",
   "metadata": {},
   "source": [
    "Se observa que le 48% de la muestra es hombre y, en promedio, el 24% de la población tiene como máximo nivel educativo alcanzado el nivel superior."
   ]
  },
  {
   "cell_type": "markdown",
   "id": "5be3d08e-8e49-4efe-9df6-b417ddf23d9d",
   "metadata": {},
   "source": [
    "Para brindar más detalle sobre los resultados y las variables creadas, se presenta un gráfico de barras que muestra consistencias entre las de la muestra _test_ y las características de la muestra _train_."
   ]
  },
  {
   "cell_type": "code",
   "execution_count": 13,
   "id": "4954d4ca-7f35-4190-b3c5-f70cd65af9c0",
   "metadata": {},
   "outputs": [
    {
     "data": {
      "image/png": "[encoded data removed]",
      "text/plain": [
       "<Figure size 1000x600 with 1 Axes>"
      ]
     },
     "metadata": {},
     "output_type": "display_data"
    }
   ],
   "source": [
    "import pandas as pd\n",
    "import matplotlib.pyplot as plt\n",
    "import numpy as np\n",
    "\n",
    "ruta_destino = r'..\\Views\\grafico1.png'\n",
    "# Lista de variables de interés sin incluir 'edad'\n",
    "variables_grafico = ['sexo', 'preescolar', 'primaria', 'secundaria', 'media', 'superior']\n",
    "\n",
    "# Calcular las medias multiplicadas por 100\n",
    "means_test = test_merged[variables_grafico].mean() * 100\n",
    "means_train = train_merged[variables_grafico].mean() * 100\n",
    "\n",
    "# Crear el gráfico\n",
    "x = np.arange(len(variables_grafico))  # Índices para las variables\n",
    "width = 0.35  # Ancho de las barras\n",
    "\n",
    "fig, ax = plt.subplots(figsize=(10, 6))\n",
    "\n",
    "# Barras para test_merged\n",
    "bars_test = ax.bar(x - width/2, means_test, width, label='Test', color='#00CDFF')\n",
    "\n",
    "# Barras para train_merged\n",
    "bars_train = ax.bar(x + width/2, means_train, width, label='Train', color='#FF0000')\n",
    "\n",
    "# Personalizar el gráfico\n",
    "ax.set_xlabel('Variables')\n",
    "ax.set_ylabel('Promedio (%)')\n",
    "ax.set_title('Promedio de variables en test_merged y train_merged')\n",
    "ax.set_xticks(x)\n",
    "ax.set_xticklabels(variables_grafico, rotation=45, ha='right')\n",
    "ax.legend()\n",
    "\n",
    "# Eliminar la caja de los ejes\n",
    "ax.spines['top'].set_visible(False)\n",
    "ax.spines['right'].set_visible(False)\n",
    "ax.spines['left'].set_visible(False)\n",
    "ax.spines['bottom'].set_visible(False)\n",
    "\n",
    "# Eliminar los números del eje y\n",
    "ax.yaxis.set_ticks([])\n",
    "\n",
    "# Añadir líneas de cuadrícula horizontales (opcional)\n",
    "ax.grid(axis='y', linestyle='--', alpha=0.6)\n",
    "\n",
    "# Mostrar valores en las barras\n",
    "for bars in [bars_test, bars_train]:\n",
    "    for bar in bars:\n",
    "        height = bar.get_height()\n",
    "        ax.annotate(f'{height:.1f}',  # Mostrar la media con 1 decimal\n",
    "                    xy=(bar.get_x() + bar.get_width() / 2, height),\n",
    "                    xytext=(0, 3),  # Ajuste de la posición del texto\n",
    "                    textcoords=\"offset points\",\n",
    "                    ha='center', va='bottom')\n",
    "\n",
    "# Mostrar el gráfico\n",
    "plt.tight_layout()\n",
    "plt.grid(False)\n",
    "\n",
    "# Exportación de gráficos\n",
    "plt.savefig(ruta_destino, format='png')\n",
    "plt.show()"
   ]
  },
  {
   "cell_type": "code",
   "execution_count": 14,
   "id": "1749f48a-ef41-4ddd-863c-0311907a7d6f",
   "metadata": {},
   "outputs": [],
   "source": [
    "# Lista de variables de interés\n",
    "variables_interes = ['sexo', 'edad', 'preescolar', 'primaria', 'secundaria', 'media', 'superior']\n",
    "\n",
    "# Bucle para eliminar filas con valores faltantes en las variables de interés\n",
    "for var in variables_interes:\n",
    "    train_merged = train_merged.dropna(subset=[var])\n",
    "    test_merged = test_merged.dropna(subset=[var])\n",
    "\n",
    "# Ahora, train_merged y test_merged no tendrán NaN en las columnas seleccionadas"
   ]
  },
  {
   "cell_type": "markdown",
   "id": "113db0b0-0721-4cb6-877e-f21f1c4e898b",
   "metadata": {},
   "source": [
    "## Modelos y resultados"
   ]
  },
  {
   "cell_type": "markdown",
   "id": "c1653a3a-2dae-40e4-a137-9dcb535660d3",
   "metadata": {},
   "source": [
    "Esta sección presenta distintas especificaciones de modelos utilizados para las tareas predictivas. El objetivo es predecir el nivel de ingreso de un hogar utilizando variables que la literatura económica relaciona con el ingreso, como por ejemplo la educación (Mincer, 1974). \n",
    "\n",
    "Un hogar se clasifica como pobre de la siguiente manera:\n",
    "$$\n",
    "\\text{Poor} = I(\\text{Inc} < P_l)\n",
    "$$\n",
    "\n",
    "donde $\\textit{I}$ es una función indicadora que toma valor uno si el ingreso familiar se encuentra por debajo del ingreso familiar. \n",
    "\n",
    "Para ello se pueden estableceder dos formas alternativas de predecir la pobreza: \n",
    "1. Como un problema de clasificación, donde se predice ceros (no pobres) y unos (pobres)\n",
    "2. Costruyendo ingresos predichos y utilizando la línea de pobreza para obtener la clasificación\n",
    "\n",
    "En el presente trabajo nos concetramos en la segunda alternativa. Se le recomienda al lector leer con detenimiento las instrucciones en los comentarios en cada paso de las distintas estimaciones.\r\n",
    "\n"
   ]
  },
  {
   "cell_type": "code",
   "execution_count": 17,
   "id": "0615dc5b-2d54-4d02-b951-1834b385383c",
   "metadata": {},
   "outputs": [],
   "source": [
    "# Convertir columnas a numéricas, si corresponde\n",
    "test_merged['sexo'] = pd.to_numeric(test_merged['sexo'], errors='coerce')\n",
    "test_merged['edad'] = pd.to_numeric(test_merged['edad'], errors='coerce')\n"
   ]
  },
  {
   "cell_type": "markdown",
   "id": "0a5990ac-da4d-451e-b701-1a3c5fa0d34f",
   "metadata": {},
   "source": [
    "## 1. Regresión lineal (I)"
   ]
  },
  {
   "cell_type": "code",
   "execution_count": 19,
   "id": "e1943913-6d5e-4763-8506-6a376490b479",
   "metadata": {},
   "outputs": [
    {
     "name": "stdout",
     "output_type": "stream",
     "text": [
      "\n",
      "Mean Squared Error (MSE) en train_merged: 1937202293638.456\n",
      "R² en train_merged: 0.17107498293989243\n",
      "\n",
      "Exportación completada. Archivo generado en: ..\\Views\\modelo1.csv\n"
     ]
    }
   ],
   "source": [
    "import pandas as pd\n",
    "from sklearn.linear_model import LinearRegression\n",
    "from sklearn.metrics import mean_squared_error, r2_score\n",
    "\n",
    "# 1. Entrenar el modelo de regresión lineal en train_merged\n",
    "X_train = train_merged[['sexo', 'edad', 'preescolar', 'primaria', 'secundaria', 'media', 'superior']]\n",
    "y_train = train_merged['Ingtot']\n",
    "\n",
    "# Eliminar filas con valores nulos en los regresores y la variable dependiente\n",
    "train_cleaned = train_merged.dropna(subset=['sexo', 'edad', 'preescolar', 'primaria', 'secundaria', 'media', 'superior', 'Ingtot'])\n",
    "\n",
    "# Extraer datos limpios\n",
    "X_train_cleaned = train_cleaned[['sexo', 'edad', 'preescolar', 'primaria', 'secundaria', 'media', 'superior']]\n",
    "y_train_cleaned = train_cleaned['Ingtot']\n",
    "\n",
    "# Crear y ajustar el modelo de regresión lineal\n",
    "model = LinearRegression()\n",
    "model.fit(X_train_cleaned, y_train_cleaned)\n",
    "\n",
    "# Predecir el ingreso en train_merged y guardarlo\n",
    "train_cleaned['Ingreso_predicho'] = model.predict(X_train_cleaned)\n",
    "train_merged.loc[train_cleaned.index, 'Ingreso_predicho'] = train_cleaned['Ingreso_predicho']\n",
    "\n",
    "# 2. Usar el modelo para predecir el `Ingreso_predicho` en test_merged\n",
    "X_test = test_merged[['sexo', 'edad', 'preescolar', 'primaria', 'secundaria', 'media', 'superior']]\n",
    "\n",
    "# Limpiar los datos de test_merged (eliminando valores nulos)\n",
    "test_cleaned = test_merged.dropna(subset=['sexo', 'edad', 'preescolar', 'primaria', 'secundaria', 'media', 'superior'])\n",
    "X_test_cleaned = test_cleaned[['sexo', 'edad', 'preescolar', 'primaria', 'secundaria', 'media', 'superior']]\n",
    "\n",
    "# Predecir el `Ingreso_predicho` en test_merged\n",
    "test_cleaned['Ingreso_predicho'] = model.predict(X_test_cleaned)\n",
    "test_merged.loc[test_cleaned.index, 'Ingreso_predicho'] = test_cleaned['Ingreso_predicho']\n",
    "\n",
    "# 3. Realizar la regresión en test_merged donde `Ingreso_predicho` es la variable explicativa\n",
    "# Ahora realizamos la regresión donde `Ingreso_predicho` será la variable explicativa\n",
    "# y `Lp` será la variable dependiente\n",
    "X_test_reg = test_cleaned[['Ingreso_predicho']]\n",
    "y_test_reg = test_cleaned['Lp']\n",
    "\n",
    "# Crear el modelo de regresión para `test_merged`\n",
    "model_test = LinearRegression()\n",
    "model_test.fit(X_test_reg, y_test_reg)\n",
    "\n",
    "# Predecir `Lp` usando el modelo ajustado en test_merged\n",
    "test_cleaned['Lp_predicho'] = model_test.predict(X_test_reg)\n",
    "test_merged.loc[test_cleaned.index, 'Lp_predicho'] = test_cleaned['Lp_predicho']\n",
    "\n",
    "# 4. Crear la dummy de pobreza\n",
    "test_merged['Pobreza'] = (test_merged['Ingreso_predicho'] < test_merged['Lp']).astype(int)\n",
    "\n",
    "# 5. Evaluar el modelo en train_merged (si se desea)\n",
    "mse_train = mean_squared_error(train_cleaned['Ingtot'], train_cleaned['Ingreso_predicho'])\n",
    "r2_train = r2_score(train_cleaned['Ingtot'], train_cleaned['Ingreso_predicho'])\n",
    "\n",
    "# Mostrar las métricas de train_merged\n",
    "print(f\"\\nMean Squared Error (MSE) en train_merged: {mse_train}\")\n",
    "print(f\"R² en train_merged: {r2_train}\")\n",
    "\n",
    "# 6. Exportar el CSV con la columna 'id' y la dummy 'Pobreza' a la ruta deseada\n",
    "ruta_destino = r'..\\Views\\modelo1.csv'  # Ruta de destino\n",
    "\n",
    "# Exportar el archivo CSV\n",
    "output = test_merged[['id', 'Pobreza']].dropna()  # Eliminar filas donde 'id' o 'Pobreza' sean nulos\n",
    "output.to_csv(ruta_destino, index=False)\n",
    "\n",
    "print(f\"\\nExportación completada. Archivo generado en: {ruta_destino}\")\n"
   ]
  },
  {
   "cell_type": "markdown",
   "id": "5c40d6cc-13e9-4d10-aed5-bd114934caf1",
   "metadata": {},
   "source": [
    "El modelo tiene estimaciones muy pobres. Realizaremos una segunda especificación de la regresión lineal."
   ]
  },
  {
   "cell_type": "markdown",
   "id": "647ab6a6-f636-4e0f-8fb4-c6bbbeebf1f2",
   "metadata": {},
   "source": [
    "## 2. Regresión lineal (II)"
   ]
  },
  {
   "cell_type": "code",
   "execution_count": 22,
   "id": "2d0f76ac-fe9f-4af3-9f94-2dc62b4583a9",
   "metadata": {
    "scrolled": true
   },
   "outputs": [
    {
     "name": "stderr",
     "output_type": "stream",
     "text": [
      "C:\\Users\\dalig\\AppData\\Local\\Temp\\ipykernel_6180\\3656493092.py:25: SettingWithCopyWarning: \n",
      "A value is trying to be set on a copy of a slice from a DataFrame.\n",
      "Try using .loc[row_indexer,col_indexer] = value instead\n",
      "\n",
      "See the caveats in the documentation: https://pandas.pydata.org/pandas-docs/stable/user_guide/indexing.html#returning-a-view-versus-a-copy\n",
      "  train_cleaned['Ingreso_predicho'] = model.predict(X_train_cleaned)\n",
      "C:\\Users\\dalig\\AppData\\Local\\Temp\\ipykernel_6180\\3656493092.py:38: SettingWithCopyWarning: \n",
      "A value is trying to be set on a copy of a slice from a DataFrame.\n",
      "Try using .loc[row_indexer,col_indexer] = value instead\n",
      "\n",
      "See the caveats in the documentation: https://pandas.pydata.org/pandas-docs/stable/user_guide/indexing.html#returning-a-view-versus-a-copy\n",
      "  test_cleaned['Ingreso_predicho'] = model.predict(X_test_cleaned)\n",
      "C:\\Users\\dalig\\AppData\\Local\\Temp\\ipykernel_6180\\3656493092.py:52: SettingWithCopyWarning: \n",
      "A value is trying to be set on a copy of a slice from a DataFrame.\n",
      "Try using .loc[row_indexer,col_indexer] = value instead\n",
      "\n",
      "See the caveats in the documentation: https://pandas.pydata.org/pandas-docs/stable/user_guide/indexing.html#returning-a-view-versus-a-copy\n",
      "  test_cleaned['Lp_predicho'] = model_test.predict(X_test_reg)\n"
     ]
    },
    {
     "name": "stdout",
     "output_type": "stream",
     "text": [
      "\n",
      "Mean Squared Error (MSE) en train_merged: 2171261287005.7332\n",
      "R² en train_merged: 0.21751608501223563\n",
      "\n",
      "Exportación completada. Archivo generado en: ..\\Views\\modelo2.csv\n"
     ]
    }
   ],
   "source": [
    "import pandas as pd\n",
    "from sklearn.linear_model import LinearRegression\n",
    "from sklearn.metrics import mean_squared_error, r2_score\n",
    "\n",
    "# 1. Entrenar el modelo de regresión lineal en train_merged\n",
    "X_train = train_merged[['sexo', 'edad', 'preescolar', 'primaria', 'secundaria', 'media', 'superior',\n",
    "                       'subsidio_alimentacion', 'subsidio_transporte', 'subsidio_familiar', 'subsidio_educativo']]\n",
    "y_train = train_merged['Ingtot']\n",
    "\n",
    "# Eliminar filas con valores nulos en los regresores y la variable dependiente\n",
    "train_cleaned = train_merged.dropna(subset=['sexo', 'edad', 'preescolar', 'primaria', 'secundaria', 'media', 'superior',\n",
    "                                            'subsidio_alimentacion', 'subsidio_transporte', 'subsidio_familiar', 'subsidio_educativo',\n",
    "                                            'Ingtot'])\n",
    "\n",
    "# Extraer datos limpios\n",
    "X_train_cleaned = train_cleaned[['sexo', 'edad', 'preescolar', 'primaria', 'secundaria', 'media', 'superior',\n",
    "                                'subsidio_alimentacion', 'subsidio_transporte', 'subsidio_familiar', 'subsidio_educativo']]\n",
    "y_train_cleaned = train_cleaned['Ingtot']\n",
    "\n",
    "# Crear y ajustar el modelo de regresión lineal\n",
    "model = LinearRegression()\n",
    "model.fit(X_train_cleaned, y_train_cleaned)\n",
    "\n",
    "# Predecir el ingreso en train_merged y guardarlo\n",
    "train_cleaned['Ingreso_predicho'] = model.predict(X_train_cleaned)\n",
    "train_merged.loc[train_cleaned.index, 'Ingreso_predicho'] = train_cleaned['Ingreso_predicho']\n",
    "\n",
    "# 2. Usar el modelo para predecir el `Ingreso_predicho` en test_merged\n",
    "X_test = test_merged[['sexo', 'edad', 'preescolar', 'primaria', 'secundaria', 'media', 'superior']]\n",
    "\n",
    "# Limpiar los datos de test_merged (eliminando valores nulos)\n",
    "test_cleaned = test_merged.dropna(subset=['sexo', 'edad', 'preescolar', 'primaria', 'secundaria', 'media', 'superior',\n",
    "                                         'subsidio_alimentacion', 'subsidio_transporte', 'subsidio_familiar', 'subsidio_educativo'])\n",
    "X_test_cleaned = test_cleaned[['sexo', 'edad', 'preescolar', 'primaria', 'secundaria', 'media', 'superior',\n",
    "                              'subsidio_alimentacion', 'subsidio_transporte', 'subsidio_familiar', 'subsidio_educativo']]\n",
    "\n",
    "# Predecir el `Ingreso_predicho` en test_merged\n",
    "test_cleaned['Ingreso_predicho'] = model.predict(X_test_cleaned)\n",
    "test_merged.loc[test_cleaned.index, 'Ingreso_predicho'] = test_cleaned['Ingreso_predicho']\n",
    "\n",
    "# 3. Realizar la regresión en test_merged donde `Ingreso_predicho` es la variable explicativa\n",
    "# Ahora realizamos la regresión donde `Ingreso_predicho` será la variable explicativa\n",
    "# y `Lp` será la variable dependiente\n",
    "X_test_reg = test_cleaned[['Ingreso_predicho']]\n",
    "y_test_reg = test_cleaned['Lp']\n",
    "\n",
    "# Crear el modelo de regresión para `test_merged`\n",
    "model_test = LinearRegression()\n",
    "model_test.fit(X_test_reg, y_test_reg)\n",
    "\n",
    "# Predecir `Lp` usando el modelo ajustado en test_merged\n",
    "test_cleaned['Lp_predicho'] = model_test.predict(X_test_reg)\n",
    "test_merged.loc[test_cleaned.index, 'Lp_predicho'] = test_cleaned['Lp_predicho']\n",
    "\n",
    "# 4. Crear la dummy de pobreza\n",
    "test_merged['Pobreza'] = (test_merged['Ingreso_predicho'] < test_merged['Lp']).astype(int)\n",
    "\n",
    "# 5. Evaluar el modelo en train_merged (si se desea)\n",
    "mse_train = mean_squared_error(train_cleaned['Ingtot'], train_cleaned['Ingreso_predicho'])\n",
    "r2_train = r2_score(train_cleaned['Ingtot'], train_cleaned['Ingreso_predicho'])\n",
    "\n",
    "# Mostrar las métricas de train_merged\n",
    "print(f\"\\nMean Squared Error (MSE) en train_merged: {mse_train}\")\n",
    "print(f\"R² en train_merged: {r2_train}\")\n",
    "\n",
    "# 6. Exportar el CSV con la columna 'id' y la dummy 'Pobreza' a la ruta deseada\n",
    "ruta_destino = r'..\\Views\\modelo2.csv'  # Ruta de destino\n",
    "\n",
    "# Exportar el archivo CSV\n",
    "output = test_merged[['id', 'Pobreza']].dropna()  # Eliminar filas donde 'id' o 'Pobreza' sean nulos\n",
    "output.to_csv(ruta_destino, index=False)\n",
    "\n",
    "print(f\"\\nExportación completada. Archivo generado en: {ruta_destino}\")\n"
   ]
  },
  {
   "cell_type": "markdown",
   "id": "7dce2568-44dc-4191-b2e9-e6887da0ce88",
   "metadata": {},
   "source": [
    "## 3. Estimación Logit\n",
    "\n",
    "$$\n",
    "p_i =  \\frac{e^{X_i\\beta}}{1+e^{X_i\\beta}}\n",
    "$$"
   ]
  },
  {
   "cell_type": "code",
   "execution_count": 24,
   "id": "1751db3c-85cc-40d6-b499-de5e9684a56a",
   "metadata": {},
   "outputs": [
    {
     "name": "stderr",
     "output_type": "stream",
     "text": [
      "<>:34: SyntaxWarning: invalid escape sequence '\\V'\n",
      "<>:34: SyntaxWarning: invalid escape sequence '\\V'\n",
      "C:\\Users\\dalig\\AppData\\Local\\Temp\\ipykernel_6180\\852890471.py:34: SyntaxWarning: invalid escape sequence '\\V'\n",
      "  print(\"Exportación completada. Archivo generado en: ..\\Views\\modelo3.csv\")\n"
     ]
    },
    {
     "name": "stdout",
     "output_type": "stream",
     "text": [
      "Exactitud en el conjunto de entrenamiento: 0.7068084873849635\n",
      "Reporte de clasificación para el conjunto de entrenamiento:\n",
      "              precision    recall  f1-score   support\n",
      "\n",
      "           0       0.32      0.63      0.43     54131\n",
      "           1       0.90      0.72      0.80    256966\n",
      "\n",
      "    accuracy                           0.71    311097\n",
      "   macro avg       0.61      0.68      0.62    311097\n",
      "weighted avg       0.80      0.71      0.74    311097\n",
      "\n",
      "Exportación completada. Archivo generado en: ..\\Views\\modelo3.csv\n"
     ]
    }
   ],
   "source": [
    "from sklearn.linear_model import LogisticRegression\n",
    "from sklearn.metrics import accuracy_score, classification_report\n",
    "import pandas as pd\n",
    "\n",
    "# 1. Definir los regresores y variable explicativa en train_merged\n",
    "X_train_merged = train_merged[['sexo', 'preescolar', 'primaria', 'secundaria', 'media', 'superior']]\n",
    "y_train_merged = (train_merged['Ingtot'] > train_merged['Lp']).astype(int)  # Variable binaria: 1 si Ingtot > Lp, 0 si no\n",
    "\n",
    "# 2. Crear y entrenar el modelo logit (regresión logística)\n",
    "model_logit = LogisticRegression(max_iter=10000, class_weight='balanced')\n",
    "model_logit.fit(X_train_merged, y_train_merged)\n",
    "\n",
    "# 3. Predecir en train_merged (esto nos da las probabilidades de pobreza en el conjunto de entrenamiento)\n",
    "train_merged['Pobreza_pred_train'] = model_logit.predict(X_train_merged)\n",
    "\n",
    "# 4. Calcular la exactitud (accuracy) del modelo en el conjunto de entrenamiento\n",
    "accuracy_train = accuracy_score(y_train_merged, train_merged['Pobreza_pred_train'])\n",
    "print(f\"Exactitud en el conjunto de entrenamiento: {accuracy_train}\")\n",
    "\n",
    "# 5. Reporte de clasificación para el conjunto de entrenamiento\n",
    "print(f\"Reporte de clasificación para el conjunto de entrenamiento:\\n{classification_report(y_train_merged, train_merged['Pobreza_pred_train'])}\")\n",
    "\n",
    "# 6. Estimar las probabilidades de pobreza en test_merged usando el modelo entrenado\n",
    "X_test_merged = test_merged[['sexo', 'preescolar', 'primaria', 'secundaria', 'media', 'superior']]\n",
    "test_merged['Pobreza_pred'] = model_logit.predict(X_test_merged)\n",
    "\n",
    "# 7. Crear la columna 'Pobreza' en test_merged\n",
    "test_merged['Pobreza'] = (test_merged['Pobreza_pred'] == 1).astype(int)  # Si la predicción es 1, la variable 'Pobreza' será 1\n",
    "\n",
    "# 8. Exportar los resultados a un archivo CSV con id y la variable 'Pobreza'\n",
    "resultado = test_merged[['id', 'Pobreza']]\n",
    "resultado.to_csv(r'..\\Views\\modelo3.csv', index=False)\n",
    "\n",
    "print(\"Exportación completada. Archivo generado en: ..\\Views\\modelo3.csv\")"
   ]
  },
  {
   "cell_type": "markdown",
   "id": "33e2df2f-63c5-44d3-a9e5-746ce79bebef",
   "metadata": {},
   "source": [
    "## 4. CARTs (I)"
   ]
  },
  {
   "cell_type": "code",
   "execution_count": 26,
   "id": "ee8e089c-fc77-4c88-af5d-3fdb01d40a95",
   "metadata": {},
   "outputs": [
    {
     "name": "stderr",
     "output_type": "stream",
     "text": [
      "<>:34: SyntaxWarning: invalid escape sequence '\\V'\n",
      "<>:34: SyntaxWarning: invalid escape sequence '\\V'\n",
      "C:\\Users\\dalig\\AppData\\Local\\Temp\\ipykernel_6180\\2774528179.py:34: SyntaxWarning: invalid escape sequence '\\V'\n",
      "  print(\"Exportación completada. Archivo generado en: ..\\Views\\modelo4.csv\")\n"
     ]
    },
    {
     "name": "stdout",
     "output_type": "stream",
     "text": [
      "Exactitud en el conjunto de entrenamiento: 0.7068084873849635\n",
      "Reporte de clasificación para el conjunto de entrenamiento:\n",
      "              precision    recall  f1-score   support\n",
      "\n",
      "           0       0.32      0.63      0.43     54131\n",
      "           1       0.90      0.72      0.80    256966\n",
      "\n",
      "    accuracy                           0.71    311097\n",
      "   macro avg       0.61      0.68      0.62    311097\n",
      "weighted avg       0.80      0.71      0.74    311097\n",
      "\n",
      "Exportación completada. Archivo generado en: ..\\Views\\modelo4.csv\n"
     ]
    }
   ],
   "source": [
    "from sklearn.tree import DecisionTreeClassifier\n",
    "from sklearn.metrics import accuracy_score, classification_report\n",
    "import pandas as pd\n",
    "\n",
    "# 1. Definir los regresores y variable explicativa en train_merged\n",
    "X_train_merged = train_merged[['sexo', 'preescolar', 'primaria', 'secundaria', 'media', 'superior']]\n",
    "y_train_merged = (train_merged['Ingtot'] > train_merged['Lp']).astype(int)  # Variable binaria: 1 si Ingtot > Lp, 0 si no\n",
    "\n",
    "# 2. Crear y entrenar el modelo de árbol de decisión (CART)\n",
    "model_cart = DecisionTreeClassifier(class_weight='balanced', max_depth=5)  # Ajusta max_depth según lo necesario\n",
    "model_cart.fit(X_train_merged, y_train_merged)\n",
    "\n",
    "# 3. Predecir en train_merged (esto nos da las predicciones de pobreza en el conjunto de entrenamiento)\n",
    "train_merged['Pobreza_pred_train'] = model_cart.predict(X_train_merged)\n",
    "\n",
    "# 4. Calcular la exactitud (accuracy) del modelo en el conjunto de entrenamiento\n",
    "accuracy_train = accuracy_score(y_train_merged, train_merged['Pobreza_pred_train'])\n",
    "print(f\"Exactitud en el conjunto de entrenamiento: {accuracy_train}\")\n",
    "\n",
    "# 5. Reporte de clasificación para el conjunto de entrenamiento\n",
    "print(f\"Reporte de clasificación para el conjunto de entrenamiento:\\n{classification_report(y_train_merged, train_merged['Pobreza_pred_train'])}\")\n",
    "\n",
    "# 6. Estimar las probabilidades de pobreza en test_merged usando el modelo entrenado\n",
    "X_test_merged = test_merged[['sexo', 'preescolar', 'primaria', 'secundaria', 'media', 'superior']]\n",
    "test_merged['Pobreza_pred'] = model_cart.predict(X_test_merged)\n",
    "\n",
    "# 7. Crear la columna 'Pobreza' en test_merged\n",
    "test_merged['Pobreza'] = (test_merged['Pobreza_pred'] == 1).astype(int)  # Si la predicción es 1, la variable 'Pobreza' será 1\n",
    "\n",
    "# 8. Exportar los resultados a un archivo CSV con id y la variable 'Pobreza'\n",
    "resultado = test_merged[['id', 'Pobreza']]\n",
    "resultado.to_csv(r'..\\Views\\modelo4.csv', index=False)\n",
    "\n",
    "print(\"Exportación completada. Archivo generado en: ..\\Views\\modelo4.csv\")"
   ]
  },
  {
   "cell_type": "markdown",
   "id": "9cb75a8b-5709-467c-947b-e088a5ea8c41",
   "metadata": {},
   "source": [
    "## 5. CARTs (II)"
   ]
  },
  {
   "cell_type": "code",
   "execution_count": 28,
   "id": "fda2974d-507d-4537-9811-d1276fb605ca",
   "metadata": {},
   "outputs": [
    {
     "name": "stderr",
     "output_type": "stream",
     "text": [
      "<>:34: SyntaxWarning: invalid escape sequence '\\V'\n",
      "<>:34: SyntaxWarning: invalid escape sequence '\\V'\n",
      "C:\\Users\\dalig\\AppData\\Local\\Temp\\ipykernel_6180\\1473462001.py:34: SyntaxWarning: invalid escape sequence '\\V'\n",
      "  print(\"Exportación completada. Archivo generado en: ..\\Views\\modelo5.csv\")\n"
     ]
    },
    {
     "name": "stdout",
     "output_type": "stream",
     "text": [
      "Exactitud en el conjunto de entrenamiento: 0.7430287016589681\n",
      "Reporte de clasificación para el conjunto de entrenamiento:\n",
      "              precision    recall  f1-score   support\n",
      "\n",
      "           0       0.37      0.67      0.48     54131\n",
      "           1       0.92      0.76      0.83    256966\n",
      "\n",
      "    accuracy                           0.74    311097\n",
      "   macro avg       0.64      0.72      0.65    311097\n",
      "weighted avg       0.82      0.74      0.77    311097\n",
      "\n",
      "Exportación completada. Archivo generado en: ..\\Views\\modelo5.csv\n"
     ]
    }
   ],
   "source": [
    "from sklearn.tree import DecisionTreeClassifier\n",
    "from sklearn.metrics import accuracy_score, classification_report\n",
    "import pandas as pd\n",
    "\n",
    "# 1. Definir los regresores y variable explicativa en train_merged\n",
    "X_train_merged = train_merged[['sexo', 'subsidio_alimentacion', 'subsidio_transporte', 'subsidio_familiar', 'subsidio_educativo']]\n",
    "y_train_merged = (train_merged['Ingtot'] > train_merged['Lp']).astype(int)  # Variable binaria: 1 si Ingtot > Lp, 0 si no\n",
    "\n",
    "# 2. Crear y entrenar el modelo de árbol de decisión (CART)\n",
    "model_cart = DecisionTreeClassifier(class_weight='balanced', max_depth=5)  # Ajusta max_depth según lo necesario\n",
    "model_cart.fit(X_train_merged, y_train_merged)\n",
    "\n",
    "# 3. Predecir en train_merged (esto nos da las predicciones de pobreza en el conjunto de entrenamiento)\n",
    "train_merged['Pobreza_pred_train'] = model_cart.predict(X_train_merged)\n",
    "\n",
    "# 4. Calcular la exactitud (accuracy) del modelo en el conjunto de entrenamiento\n",
    "accuracy_train = accuracy_score(y_train_merged, train_merged['Pobreza_pred_train'])\n",
    "print(f\"Exactitud en el conjunto de entrenamiento: {accuracy_train}\")\n",
    "\n",
    "# 5. Reporte de clasificación para el conjunto de entrenamiento\n",
    "print(f\"Reporte de clasificación para el conjunto de entrenamiento:\\n{classification_report(y_train_merged, train_merged['Pobreza_pred_train'])}\")\n",
    "\n",
    "# 6. Estimar las probabilidades de pobreza en test_merged usando el modelo entrenado\n",
    "X_test_merged = test_merged[['sexo', 'subsidio_alimentacion', 'subsidio_transporte', 'subsidio_familiar', 'subsidio_educativo']]\n",
    "test_merged['Pobreza_pred'] = model_cart.predict(X_test_merged)\n",
    "\n",
    "# 7. Crear la columna 'Pobreza' en test_merged\n",
    "test_merged['Pobreza'] = (test_merged['Pobreza_pred'] == 1).astype(int)  # Si la predicción es 1, la variable 'Pobreza' será 1\n",
    "\n",
    "# 8. Exportar los resultados a un archivo CSV con id y la variable 'Pobreza'\n",
    "resultado = test_merged[['id', 'Pobreza']]\n",
    "resultado.to_csv(r'..\\Views\\modelo5.csv', index=False)\n",
    "\n",
    "print(\"Exportación completada. Archivo generado en: ..\\Views\\modelo5.csv\")"
   ]
  },
  {
   "cell_type": "markdown",
   "id": "3640401e-665c-4869-897e-5d25bbf1b9f9",
   "metadata": {},
   "source": [
    "## 6. CARTs (III)"
   ]
  },
  {
   "cell_type": "code",
   "execution_count": 30,
   "id": "f1134fa0-40be-44ad-8c7e-16b505a5cdd3",
   "metadata": {},
   "outputs": [
    {
     "name": "stderr",
     "output_type": "stream",
     "text": [
      "<>:36: SyntaxWarning: invalid escape sequence '\\V'\n",
      "<>:36: SyntaxWarning: invalid escape sequence '\\V'\n",
      "C:\\Users\\dalig\\AppData\\Local\\Temp\\ipykernel_6180\\497156253.py:36: SyntaxWarning: invalid escape sequence '\\V'\n",
      "  print(\"Exportación completada. Archivo generado en: ..\\Views\\modelo6.csv\")\n"
     ]
    },
    {
     "name": "stdout",
     "output_type": "stream",
     "text": [
      "Exactitud en el conjunto de entrenamiento: 0.6476500898433607\n",
      "Reporte de clasificación para el conjunto de entrenamiento:\n",
      "              precision    recall  f1-score   support\n",
      "\n",
      "           0       0.31      0.85      0.46     54131\n",
      "           1       0.95      0.60      0.74    256966\n",
      "\n",
      "    accuracy                           0.65    311097\n",
      "   macro avg       0.63      0.73      0.60    311097\n",
      "weighted avg       0.84      0.65      0.69    311097\n",
      "\n",
      "Exportación completada. Archivo generado en: ..\\Views\\modelo6.csv\n"
     ]
    }
   ],
   "source": [
    "from sklearn.tree import DecisionTreeClassifier\n",
    "from sklearn.metrics import accuracy_score, classification_report\n",
    "import pandas as pd\n",
    "\n",
    "# 1. Definir los regresores y variable explicativa en train_merged\n",
    "X_train_merged = train_merged[['sexo', 'preescolar', 'primaria', 'secundaria', 'media', 'superior',\n",
    "                               'subsidio_alimentacion', 'subsidio_transporte', 'subsidio_familiar', 'subsidio_educativo']]\n",
    "y_train_merged = (train_merged['Ingtot'] > train_merged['Lp']).astype(int)  # Variable binaria: 1 si Ingtot > Lp, 0 si no\n",
    "\n",
    "# 2. Crear y entrenar el modelo de árbol de decisión (CART)\n",
    "model_cart = DecisionTreeClassifier(class_weight='balanced', max_depth=5)  # Ajusta max_depth según lo necesario\n",
    "model_cart.fit(X_train_merged, y_train_merged)\n",
    "\n",
    "# 3. Predecir en train_merged (esto nos da las predicciones de pobreza en el conjunto de entrenamiento)\n",
    "train_merged['Pobreza_pred_train'] = model_cart.predict(X_train_merged)\n",
    "\n",
    "# 4. Calcular la exactitud (accuracy) del modelo en el conjunto de entrenamiento\n",
    "accuracy_train = accuracy_score(y_train_merged, train_merged['Pobreza_pred_train'])\n",
    "print(f\"Exactitud en el conjunto de entrenamiento: {accuracy_train}\")\n",
    "\n",
    "# 5. Reporte de clasificación para el conjunto de entrenamiento\n",
    "print(f\"Reporte de clasificación para el conjunto de entrenamiento:\\n{classification_report(y_train_merged, train_merged['Pobreza_pred_train'])}\")\n",
    "\n",
    "# 6. Estimar las probabilidades de pobreza en test_merged usando el modelo entrenado\n",
    "X_test_merged = test_merged[['sexo', 'preescolar', 'primaria', 'secundaria', 'media', 'superior',\n",
    "                             'subsidio_alimentacion', 'subsidio_transporte', 'subsidio_familiar', 'subsidio_educativo']]\n",
    "test_merged['Pobreza_pred'] = model_cart.predict(X_test_merged)\n",
    "\n",
    "# 7. Crear la columna 'Pobreza' en test_merged\n",
    "test_merged['Pobreza'] = (test_merged['Pobreza_pred'] == 1).astype(int)  # Si la predicción es 1, la variable 'Pobreza' será 1\n",
    "\n",
    "# 8. Exportar los resultados a un archivo CSV con id y la variable 'Pobreza'\n",
    "resultado = test_merged[['id', 'Pobreza']]\n",
    "resultado.to_csv(r'..\\Views\\modelo6.csv', index=False)\n",
    "\n",
    "print(\"Exportación completada. Archivo generado en: ..\\Views\\modelo6.csv\")"
   ]
  },
  {
   "cell_type": "markdown",
   "id": "2ae2fee4-c84d-43a2-a777-a58e860cf72f",
   "metadata": {},
   "source": [
    "La inclusión de los subsidios adiciona un ruido que desmejora levemente la estimación."
   ]
  },
  {
   "cell_type": "markdown",
   "id": "1c1d76c8-5223-4cb5-b72c-a5253c9a87a0",
   "metadata": {},
   "source": [
    "## 7. Random Forest (I)"
   ]
  },
  {
   "cell_type": "code",
   "execution_count": 33,
   "id": "f3341523-3f2d-4381-85ff-8867fd69e3c0",
   "metadata": {},
   "outputs": [
    {
     "name": "stderr",
     "output_type": "stream",
     "text": [
      "<>:34: SyntaxWarning: invalid escape sequence '\\V'\n",
      "<>:34: SyntaxWarning: invalid escape sequence '\\V'\n",
      "C:\\Users\\dalig\\AppData\\Local\\Temp\\ipykernel_6180\\571295781.py:34: SyntaxWarning: invalid escape sequence '\\V'\n",
      "  print(\"Exportación completada. Archivo generado en: ..\\Views\\modelo7.csv\")\n"
     ]
    },
    {
     "name": "stdout",
     "output_type": "stream",
     "text": [
      "Exactitud en el conjunto de entrenamiento: 0.7068084873849635\n",
      "Reporte de clasificación para el conjunto de entrenamiento:\n",
      "              precision    recall  f1-score   support\n",
      "\n",
      "           0       0.32      0.63      0.43     54131\n",
      "           1       0.90      0.72      0.80    256966\n",
      "\n",
      "    accuracy                           0.71    311097\n",
      "   macro avg       0.61      0.68      0.62    311097\n",
      "weighted avg       0.80      0.71      0.74    311097\n",
      "\n",
      "Exportación completada. Archivo generado en: ..\\Views\\modelo7.csv\n"
     ]
    }
   ],
   "source": [
    "from sklearn.ensemble import RandomForestClassifier\n",
    "from sklearn.metrics import accuracy_score, classification_report\n",
    "import pandas as pd\n",
    "\n",
    "# 1. Definir los regresores y variable explicativa en train_merged\n",
    "X_train_merged = train_merged[['sexo', 'preescolar', 'primaria', 'secundaria', 'media', 'superior']]\n",
    "y_train_merged = (train_merged['Ingtot'] > train_merged['Lp']).astype(int)  # Variable binaria: 1 si Ingtot > Lp, 0 si no\n",
    "\n",
    "# 2. Crear y entrenar el modelo de Random Forest\n",
    "model_rf = RandomForestClassifier(n_estimators=100, class_weight='balanced', random_state=42)\n",
    "model_rf.fit(X_train_merged, y_train_merged)\n",
    "\n",
    "# 3. Predecir en train_merged (esto nos da las predicciones de pobreza en el conjunto de entrenamiento)\n",
    "train_merged['Pobreza_pred_train'] = model_rf.predict(X_train_merged)\n",
    "\n",
    "# 4. Calcular la exactitud (accuracy) del modelo en el conjunto de entrenamiento\n",
    "accuracy_train = accuracy_score(y_train_merged, train_merged['Pobreza_pred_train'])\n",
    "print(f\"Exactitud en el conjunto de entrenamiento: {accuracy_train}\")\n",
    "\n",
    "# 5. Reporte de clasificación para el conjunto de entrenamiento\n",
    "print(f\"Reporte de clasificación para el conjunto de entrenamiento:\\n{classification_report(y_train_merged, train_merged['Pobreza_pred_train'])}\")\n",
    "\n",
    "# 6. Estimar las probabilidades de pobreza en test_merged usando el modelo entrenado\n",
    "X_test_merged = test_merged[['sexo', 'preescolar', 'primaria', 'secundaria', 'media', 'superior']]\n",
    "test_merged['Pobreza_pred'] = model_rf.predict(X_test_merged)\n",
    "\n",
    "# 7. Crear la columna 'Pobreza' en test_merged\n",
    "test_merged['Pobreza'] = (test_merged['Pobreza_pred'] == 1).astype(int)  # Si la predicción es 1, la variable 'Pobreza' será 1\n",
    "\n",
    "# 8. Exportar los resultados a un archivo CSV con id y la variable 'Pobreza'\n",
    "resultado = test_merged[['id', 'Pobreza']]\n",
    "resultado.to_csv(r'..\\Views\\modelo7.csv', index=False)\n",
    "\n",
    "print(\"Exportación completada. Archivo generado en: ..\\Views\\modelo7.csv\")\n"
   ]
  },
  {
   "cell_type": "markdown",
   "id": "6a450e34-62fa-410a-8b8d-9fd301a3afe3",
   "metadata": {},
   "source": [
    "## Random Forest (II)"
   ]
  },
  {
   "cell_type": "code",
   "execution_count": 35,
   "id": "b5497ec0-2e05-4f13-8b86-b7a106f50bac",
   "metadata": {},
   "outputs": [
    {
     "name": "stderr",
     "output_type": "stream",
     "text": [
      "<>:36: SyntaxWarning: invalid escape sequence '\\V'\n",
      "<>:36: SyntaxWarning: invalid escape sequence '\\V'\n",
      "C:\\Users\\dalig\\AppData\\Local\\Temp\\ipykernel_6180\\3350347845.py:36: SyntaxWarning: invalid escape sequence '\\V'\n",
      "  print(\"Exportación completada. Archivo generado en: ..\\Views\\modelo8.csv\")\n"
     ]
    },
    {
     "name": "stdout",
     "output_type": "stream",
     "text": [
      "Exactitud en el conjunto de entrenamiento: 0.6476500898433607\n",
      "Reporte de clasificación para el conjunto de entrenamiento:\n",
      "              precision    recall  f1-score   support\n",
      "\n",
      "           0       0.31      0.85      0.46     54131\n",
      "           1       0.95      0.60      0.74    256966\n",
      "\n",
      "    accuracy                           0.65    311097\n",
      "   macro avg       0.63      0.73      0.60    311097\n",
      "weighted avg       0.84      0.65      0.69    311097\n",
      "\n",
      "Exportación completada. Archivo generado en: ..\\Views\\modelo8.csv\n"
     ]
    }
   ],
   "source": [
    "from sklearn.ensemble import RandomForestClassifier\n",
    "from sklearn.metrics import accuracy_score, classification_report\n",
    "import pandas as pd\n",
    "\n",
    "# 1. Definir los regresores y variable explicativa en train_merged\n",
    "X_train_merged = train_merged[['sexo', 'preescolar', 'primaria', 'secundaria', 'media', 'superior',\n",
    "                              'subsidio_alimentacion', 'subsidio_transporte', 'subsidio_familiar', 'subsidio_educativo']]\n",
    "y_train_merged = (train_merged['Ingtot'] > train_merged['Lp']).astype(int)  # Variable binaria: 1 si Ingtot > Lp, 0 si no\n",
    "\n",
    "# 2. Crear y entrenar el modelo de Random Forest\n",
    "model_rf = RandomForestClassifier(n_estimators=100, class_weight='balanced', random_state=42)\n",
    "model_rf.fit(X_train_merged, y_train_merged)\n",
    "\n",
    "# 3. Predecir en train_merged (esto nos da las predicciones de pobreza en el conjunto de entrenamiento)\n",
    "train_merged['Pobreza_pred_train'] = model_rf.predict(X_train_merged)\n",
    "\n",
    "# 4. Calcular la exactitud (accuracy) del modelo en el conjunto de entrenamiento\n",
    "accuracy_train = accuracy_score(y_train_merged, train_merged['Pobreza_pred_train'])\n",
    "print(f\"Exactitud en el conjunto de entrenamiento: {accuracy_train}\")\n",
    "\n",
    "# 5. Reporte de clasificación para el conjunto de entrenamiento\n",
    "print(f\"Reporte de clasificación para el conjunto de entrenamiento:\\n{classification_report(y_train_merged, train_merged['Pobreza_pred_train'])}\")\n",
    "\n",
    "# 6. Estimar las probabilidades de pobreza en test_merged usando el modelo entrenado\n",
    "X_test_merged = test_merged[['sexo', 'preescolar', 'primaria', 'secundaria', 'media', 'superior',\n",
    "                            'subsidio_alimentacion', 'subsidio_transporte', 'subsidio_familiar', 'subsidio_educativo']]\n",
    "test_merged['Pobreza_pred'] = model_rf.predict(X_test_merged)\n",
    "\n",
    "# 7. Crear la columna 'Pobreza' en test_merged\n",
    "test_merged['Pobreza'] = (test_merged['Pobreza_pred'] == 1).astype(int)  # Si la predicción es 1, la variable 'Pobreza' será 1\n",
    "\n",
    "# 8. Exportar los resultados a un archivo CSV con id y la variable 'Pobreza'\n",
    "resultado = test_merged[['id', 'Pobreza']]\n",
    "resultado.to_csv(r'..\\Views\\modelo8.csv', index=False)\n",
    "\n",
    "print(\"Exportación completada. Archivo generado en: ..\\Views\\modelo8.csv\")\n"
   ]
  },
  {
   "cell_type": "code",
   "execution_count": null,
   "id": "a425018d-682b-4ef3-9cc7-dec6077ebb5e",
   "metadata": {},
   "outputs": [],
   "source": []
  }
 ],
 "metadata": {
  "kernelspec": {
   "display_name": "Python 3 (ipykernel)",
   "language": "python",
   "name": "python3"
  },
  "language_info": {
   "codemirror_mode": {
    "name": "ipython",
    "version": 3
   },
   "file_extension": ".py",
   "mimetype": "text/x-python",
   "name": "python",
   "nbconvert_exporter": "python",
   "pygments_lexer": "ipython3",
   "version": "3.12.4"
  }
 },
 "nbformat": 4,
 "nbformat_minor": 5
}
